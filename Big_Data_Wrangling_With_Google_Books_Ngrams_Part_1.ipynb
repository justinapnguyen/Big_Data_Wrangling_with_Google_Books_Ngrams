{
 "cells": [
  {
   "cell_type": "markdown",
   "id": "bfaf84fd",
   "metadata": {},
   "source": [
    "# Big Data Wrangling With Google Books Ngrams\n",
    "## Part 1: Introduction to Dataset"
   ]
  },
  {
   "cell_type": "markdown",
   "id": "66a7c97e",
   "metadata": {},
   "source": [
    "**BrainStation**\n",
    "\n",
    "## Introduction\n",
    "\n",
    "In this notebook, we will look into the Google Ngrams dataset. It was created by Google's research team by analyzing all of the content in Google Books - these digitized texts represent approximately 4% of all books ever printed, and span a time period from the 1800s into the 2000s.\n",
    "\n",
    "We will filter and reduce data down to a manageable size, so that we can do some analysis locally on our machine after extracting data from the Cloud and processing it using Big Data tools."
   ]
  },
  {
   "cell_type": "markdown",
   "id": "89230720",
   "metadata": {},
   "source": [
    "***\n",
    "\n",
    "## Table of Contents <a class=\"anchor\" id=\"toc\"></a>\n",
    "\n",
    "- [The Dataset](#the-dataset)\n",
    "- [Creating a new dataframe](#new-dataframe)\n",
    "- [Conclusion](#conclusion)"
   ]
  },
  {
   "cell_type": "markdown",
   "id": "2d7a55ea",
   "metadata": {},
   "source": [
    "***\n",
    "\n",
    "## The Dataset <a class=\"anchor\" id=\"the-dataset\"></a>\n",
    "\n",
    "Let's do some configurations and import the relevant packages to analyze the data."
   ]
  },
  {
   "cell_type": "code",
   "execution_count": 1,
   "id": "0164e39e",
   "metadata": {},
   "outputs": [
    {
     "name": "stdout",
     "output_type": "stream",
     "text": [
      "Starting Spark application\n"
     ]
    },
    {
     "data": {
      "text/html": [
       "<table>\n",
       "<tr><th>ID</th><th>YARN Application ID</th><th>Kind</th><th>State</th><th>Spark UI</th><th>Driver log</th><th>User</th><th>Current session?</th></tr><tr><td>8</td><td>application_1686153419480_0009</td><td>pyspark</td><td>idle</td><td><a target=\"_blank\" href=\"http://ip-172-31-3-210.us-east-2.compute.internal:20888/proxy/application_1686153419480_0009/\">Link</a></td><td><a target=\"_blank\" href=\"http://ip-172-31-14-123.us-east-2.compute.internal:8042/node/containerlogs/container_1686153419480_0009_01_000001/livy\">Link</a></td><td>None</td><td>✔</td></tr></table>"
      ],
      "text/plain": [
       "<IPython.core.display.HTML object>"
      ]
     },
     "metadata": {},
     "output_type": "display_data"
    },
    {
     "data": {
      "application/vnd.jupyter.widget-view+json": {
       "model_id": "",
       "version_major": 2,
       "version_minor": 0
      },
      "text/plain": [
       "FloatProgress(value=0.0, bar_style='info', description='Progress:', layout=Layout(height='25px', width='50%'),…"
      ]
     },
     "metadata": {},
     "output_type": "display_data"
    },
    {
     "name": "stdout",
     "output_type": "stream",
     "text": [
      "SparkSession available as 'spark'.\n"
     ]
    },
    {
     "data": {
      "application/vnd.jupyter.widget-view+json": {
       "model_id": "",
       "version_major": 2,
       "version_minor": 0
      },
      "text/plain": [
       "FloatProgress(value=0.0, bar_style='info', description='Progress:', layout=Layout(height='25px', width='50%'),…"
      ]
     },
     "metadata": {},
     "output_type": "display_data"
    },
    {
     "name": "stdout",
     "output_type": "stream",
     "text": [
      "<pyspark.sql.session.SparkSession object at 0x7f7af243fd90>"
     ]
    }
   ],
   "source": [
    "spark"
   ]
  },
  {
   "cell_type": "code",
   "execution_count": 2,
   "id": "695515da",
   "metadata": {
    "scrolled": true
   },
   "outputs": [
    {
     "name": "stdout",
     "output_type": "stream",
     "text": [
      "Starting Spark application\n"
     ]
    },
    {
     "data": {
      "text/html": [
       "<table>\n",
       "<tr><th>ID</th><th>YARN Application ID</th><th>Kind</th><th>State</th><th>Spark UI</th><th>Driver log</th><th>User</th><th>Current session?</th></tr><tr><td>9</td><td>application_1686153419480_0010</td><td>pyspark</td><td>idle</td><td><a target=\"_blank\" href=\"http://ip-172-31-3-210.us-east-2.compute.internal:20888/proxy/application_1686153419480_0010/\">Link</a></td><td><a target=\"_blank\" href=\"http://ip-172-31-14-123.us-east-2.compute.internal:8042/node/containerlogs/container_1686153419480_0010_01_000001/livy\">Link</a></td><td>None</td><td>✔</td></tr></table>"
      ],
      "text/plain": [
       "<IPython.core.display.HTML object>"
      ]
     },
     "metadata": {},
     "output_type": "display_data"
    },
    {
     "data": {
      "application/vnd.jupyter.widget-view+json": {
       "model_id": "",
       "version_major": 2,
       "version_minor": 0
      },
      "text/plain": [
       "FloatProgress(value=0.0, bar_style='info', description='Progress:', layout=Layout(height='25px', width='50%'),…"
      ]
     },
     "metadata": {},
     "output_type": "display_data"
    },
    {
     "name": "stdout",
     "output_type": "stream",
     "text": [
      "SparkSession available as 'spark'.\n"
     ]
    },
    {
     "data": {
      "text/html": [
       "Current session configs: <tt>{'conf': {'spark.pyspark.python': 'python3', 'spark.pyspark.virtualenv.enabled': 'true', 'spark.pyspark.virtualenv.type': 'native', 'spark.pyspark.virtualenv.bin.path': '/usr/bin/virtualenv'}, 'proxyUser': 'jovyan', 'kind': 'pyspark'}</tt><br>"
      ],
      "text/plain": [
       "<IPython.core.display.HTML object>"
      ]
     },
     "metadata": {},
     "output_type": "display_data"
    },
    {
     "data": {
      "text/html": [
       "<table>\n",
       "<tr><th>ID</th><th>YARN Application ID</th><th>Kind</th><th>State</th><th>Spark UI</th><th>Driver log</th><th>User</th><th>Current session?</th></tr><tr><td>9</td><td>application_1686153419480_0010</td><td>pyspark</td><td>idle</td><td><a target=\"_blank\" href=\"http://ip-172-31-3-210.us-east-2.compute.internal:20888/proxy/application_1686153419480_0010/\">Link</a></td><td><a target=\"_blank\" href=\"http://ip-172-31-14-123.us-east-2.compute.internal:8042/node/containerlogs/container_1686153419480_0010_01_000001/livy\">Link</a></td><td>None</td><td>✔</td></tr></table>"
      ],
      "text/plain": [
       "<IPython.core.display.HTML object>"
      ]
     },
     "metadata": {},
     "output_type": "display_data"
    }
   ],
   "source": [
    "%%configure -f\n",
    "{\n",
    "    \"conf\": {\n",
    "        \"spark.pyspark.python\": \"python3\",\n",
    "        \"spark.pyspark.virtualenv.enabled\": \"true\",\n",
    "        \"spark.pyspark.virtualenv.type\":\"native\",\n",
    "        \"spark.pyspark.virtualenv.bin.path\":\"/usr/bin/virtualenv\"\n",
    "    }\n",
    "}"
   ]
  },
  {
   "cell_type": "code",
   "execution_count": 3,
   "id": "c6c7c173",
   "metadata": {},
   "outputs": [
    {
     "data": {
      "application/vnd.jupyter.widget-view+json": {
       "model_id": "",
       "version_major": 2,
       "version_minor": 0
      },
      "text/plain": [
       "FloatProgress(value=0.0, bar_style='info', description='Progress:', layout=Layout(height='25px', width='50%'),…"
      ]
     },
     "metadata": {},
     "output_type": "display_data"
    }
   ],
   "source": [
    "from pyspark.sql.functions import col"
   ]
  },
  {
   "cell_type": "markdown",
   "id": "22cc4f06",
   "metadata": {},
   "source": [
    "Now, let's read in the data and take a first look at the dataset."
   ]
  },
  {
   "cell_type": "code",
   "execution_count": 4,
   "id": "09c4af6b",
   "metadata": {},
   "outputs": [
    {
     "data": {
      "application/vnd.jupyter.widget-view+json": {
       "model_id": "",
       "version_major": 2,
       "version_minor": 0
      },
      "text/plain": [
       "FloatProgress(value=0.0, bar_style='info', description='Progress:', layout=Layout(height='25px', width='50%'),…"
      ]
     },
     "metadata": {},
     "output_type": "display_data"
    },
    {
     "name": "stdout",
     "output_type": "stream",
     "text": [
      "DataFrame[token: string, year: string, frequency: string, pages: string, books: string]"
     ]
    }
   ],
   "source": [
    "# Let's import the file\n",
    "df = spark.read.csv('s3://brainstation-dsft/eng_1M_1gram.csv', header=True)\n",
    "df"
   ]
  },
  {
   "cell_type": "code",
   "execution_count": 5,
   "id": "7fcaa096",
   "metadata": {},
   "outputs": [
    {
     "data": {
      "application/vnd.jupyter.widget-view+json": {
       "model_id": "",
       "version_major": 2,
       "version_minor": 0
      },
      "text/plain": [
       "FloatProgress(value=0.0, bar_style='info', description='Progress:', layout=Layout(height='25px', width='50%'),…"
      ]
     },
     "metadata": {},
     "output_type": "display_data"
    },
    {
     "name": "stdout",
     "output_type": "stream",
     "text": [
      "-RECORD 0--------------\n",
      " token     | inGermany \n",
      " year      | 1927      \n",
      " frequency | 2         \n",
      " pages     | 2         \n",
      " books     | 2         \n",
      "-RECORD 1--------------\n",
      " token     | inGermany \n",
      " year      | 1929      \n",
      " frequency | 1         \n",
      " pages     | 1         \n",
      " books     | 1         \n",
      "-RECORD 2--------------\n",
      " token     | inGermany \n",
      " year      | 1930      \n",
      " frequency | 1         \n",
      " pages     | 1         \n",
      " books     | 1         \n",
      "-RECORD 3--------------\n",
      " token     | inGermany \n",
      " year      | 1933      \n",
      " frequency | 1         \n",
      " pages     | 1         \n",
      " books     | 1         \n",
      "-RECORD 4--------------\n",
      " token     | inGermany \n",
      " year      | 1934      \n",
      " frequency | 1         \n",
      " pages     | 1         \n",
      " books     | 1         \n",
      "-RECORD 5--------------\n",
      " token     | inGermany \n",
      " year      | 1935      \n",
      " frequency | 1         \n",
      " pages     | 1         \n",
      " books     | 1         \n",
      "-RECORD 6--------------\n",
      " token     | inGermany \n",
      " year      | 1938      \n",
      " frequency | 5         \n",
      " pages     | 5         \n",
      " books     | 5         \n",
      "-RECORD 7--------------\n",
      " token     | inGermany \n",
      " year      | 1939      \n",
      " frequency | 1         \n",
      " pages     | 1         \n",
      " books     | 1         \n",
      "-RECORD 8--------------\n",
      " token     | inGermany \n",
      " year      | 1940      \n",
      " frequency | 1         \n",
      " pages     | 1         \n",
      " books     | 1         \n",
      "-RECORD 9--------------\n",
      " token     | inGermany \n",
      " year      | 1942      \n",
      " frequency | 2         \n",
      " pages     | 2         \n",
      " books     | 2         \n",
      "only showing top 10 rows"
     ]
    }
   ],
   "source": [
    "# Shows the first 10 rows\n",
    "df.show(10, vertical=True)"
   ]
  },
  {
   "cell_type": "code",
   "execution_count": 6,
   "id": "75ec26e7",
   "metadata": {
    "scrolled": true
   },
   "outputs": [
    {
     "data": {
      "application/vnd.jupyter.widget-view+json": {
       "model_id": "",
       "version_major": 2,
       "version_minor": 0
      },
      "text/plain": [
       "FloatProgress(value=0.0, bar_style='info', description='Progress:', layout=Layout(height='25px', width='50%'),…"
      ]
     },
     "metadata": {},
     "output_type": "display_data"
    },
    {
     "name": "stdout",
     "output_type": "stream",
     "text": [
      "There are 261823225 rows and 5 columns in this dataset."
     ]
    }
   ],
   "source": [
    "# Counts the number of row in the data set\n",
    "print(f'There are {df.count()} rows and {len(df.columns)} columns in this dataset.')"
   ]
  },
  {
   "cell_type": "markdown",
   "id": "65b47f1a",
   "metadata": {},
   "source": [
    "We can print out the schema and data types using `printSchema()` to see what we're working with."
   ]
  },
  {
   "cell_type": "code",
   "execution_count": 7,
   "id": "40bab9fa",
   "metadata": {},
   "outputs": [
    {
     "data": {
      "application/vnd.jupyter.widget-view+json": {
       "model_id": "",
       "version_major": 2,
       "version_minor": 0
      },
      "text/plain": [
       "FloatProgress(value=0.0, bar_style='info', description='Progress:', layout=Layout(height='25px', width='50%'),…"
      ]
     },
     "metadata": {},
     "output_type": "display_data"
    },
    {
     "name": "stdout",
     "output_type": "stream",
     "text": [
      "root\n",
      " |-- token: string (nullable = true)\n",
      " |-- year: string (nullable = true)\n",
      " |-- frequency: string (nullable = true)\n",
      " |-- pages: string (nullable = true)\n",
      " |-- books: string (nullable = true)"
     ]
    }
   ],
   "source": [
    "df.printSchema()"
   ]
  },
  {
   "cell_type": "markdown",
   "id": "7dbc7873",
   "metadata": {},
   "source": [
    "***\n",
    "## Creating a new dataframe <a class=\"anchor\" id=\"new-dataframe\"></a>\n",
    "\n",
    "For this notebook, we want to create a new dataframe to include only the rows where token is \"data\"."
   ]
  },
  {
   "cell_type": "code",
   "execution_count": 8,
   "id": "b9684ade",
   "metadata": {},
   "outputs": [
    {
     "data": {
      "application/vnd.jupyter.widget-view+json": {
       "model_id": "",
       "version_major": 2,
       "version_minor": 0
      },
      "text/plain": [
       "FloatProgress(value=0.0, bar_style='info', description='Progress:', layout=Layout(height='25px', width='50%'),…"
      ]
     },
     "metadata": {},
     "output_type": "display_data"
    },
    {
     "name": "stdout",
     "output_type": "stream",
     "text": [
      "DataFrame[token: string, year: string, frequency: string, pages: string, books: string]"
     ]
    }
   ],
   "source": [
    "# Filters df to only include rows where token = 'data'\n",
    "filtered_df = df.filter(col('token') == 'data')\n",
    "filtered_df"
   ]
  },
  {
   "cell_type": "markdown",
   "id": "24ca9a83",
   "metadata": {},
   "source": [
    "Now, we want to take a look at the new dataframe we made."
   ]
  },
  {
   "cell_type": "code",
   "execution_count": 11,
   "id": "f192a33e",
   "metadata": {},
   "outputs": [
    {
     "data": {
      "application/vnd.jupyter.widget-view+json": {
       "model_id": "",
       "version_major": 2,
       "version_minor": 0
      },
      "text/plain": [
       "FloatProgress(value=0.0, bar_style='info', description='Progress:', layout=Layout(height='25px', width='50%'),…"
      ]
     },
     "metadata": {},
     "output_type": "display_data"
    },
    {
     "name": "stdout",
     "output_type": "stream",
     "text": [
      "-RECORD 0---------\n",
      " token     | data \n",
      " year      | 1584 \n",
      " frequency | 16   \n",
      " pages     | 14   \n",
      " books     | 1    \n",
      "-RECORD 1---------\n",
      " token     | data \n",
      " year      | 1614 \n",
      " frequency | 3    \n",
      " pages     | 2    \n",
      " books     | 1    \n",
      "-RECORD 2---------\n",
      " token     | data \n",
      " year      | 1627 \n",
      " frequency | 1    \n",
      " pages     | 1    \n",
      " books     | 1    \n",
      "-RECORD 3---------\n",
      " token     | data \n",
      " year      | 1631 \n",
      " frequency | 22   \n",
      " pages     | 18   \n",
      " books     | 1    \n",
      "-RECORD 4---------\n",
      " token     | data \n",
      " year      | 1637 \n",
      " frequency | 1    \n",
      " pages     | 1    \n",
      " books     | 1    \n",
      "-RECORD 5---------\n",
      " token     | data \n",
      " year      | 1638 \n",
      " frequency | 2    \n",
      " pages     | 2    \n",
      " books     | 1    \n",
      "-RECORD 6---------\n",
      " token     | data \n",
      " year      | 1640 \n",
      " frequency | 1    \n",
      " pages     | 1    \n",
      " books     | 1    \n",
      "-RECORD 7---------\n",
      " token     | data \n",
      " year      | 1642 \n",
      " frequency | 1    \n",
      " pages     | 1    \n",
      " books     | 1    \n",
      "-RECORD 8---------\n",
      " token     | data \n",
      " year      | 1644 \n",
      " frequency | 4    \n",
      " pages     | 4    \n",
      " books     | 1    \n",
      "-RECORD 9---------\n",
      " token     | data \n",
      " year      | 1647 \n",
      " frequency | 1    \n",
      " pages     | 1    \n",
      " books     | 1    \n",
      "only showing top 10 rows"
     ]
    }
   ],
   "source": [
    "filtered_df.show(10, vertical = True)"
   ]
  },
  {
   "cell_type": "code",
   "execution_count": 9,
   "id": "432229cd",
   "metadata": {},
   "outputs": [
    {
     "data": {
      "application/vnd.jupyter.widget-view+json": {
       "model_id": "",
       "version_major": 2,
       "version_minor": 0
      },
      "text/plain": [
       "FloatProgress(value=0.0, bar_style='info', description='Progress:', layout=Layout(height='25px', width='50%'),…"
      ]
     },
     "metadata": {},
     "output_type": "display_data"
    },
    {
     "name": "stdout",
     "output_type": "stream",
     "text": [
      "root\n",
      " |-- token: string (nullable = true)\n",
      " |-- year: string (nullable = true)\n",
      " |-- frequency: string (nullable = true)\n",
      " |-- pages: string (nullable = true)\n",
      " |-- books: string (nullable = true)"
     ]
    }
   ],
   "source": [
    "filtered_df.printSchema()"
   ]
  },
  {
   "cell_type": "code",
   "execution_count": 10,
   "id": "22145275",
   "metadata": {},
   "outputs": [
    {
     "data": {
      "application/vnd.jupyter.widget-view+json": {
       "model_id": "",
       "version_major": 2,
       "version_minor": 0
      },
      "text/plain": [
       "FloatProgress(value=0.0, bar_style='info', description='Progress:', layout=Layout(height='25px', width='50%'),…"
      ]
     },
     "metadata": {},
     "output_type": "display_data"
    },
    {
     "name": "stdout",
     "output_type": "stream",
     "text": [
      "There are 316 rows and 5 columns in this dataset."
     ]
    }
   ],
   "source": [
    "# Counts the number of row in the data set\n",
    "print(f'There are {filtered_df.count()} rows and {len(filtered_df.columns)} columns in this dataset.')"
   ]
  },
  {
   "cell_type": "code",
   "execution_count": 12,
   "id": "9737c9cd",
   "metadata": {},
   "outputs": [
    {
     "data": {
      "application/vnd.jupyter.widget-view+json": {
       "model_id": "",
       "version_major": 2,
       "version_minor": 0
      },
      "text/plain": [
       "FloatProgress(value=0.0, bar_style='info', description='Progress:', layout=Layout(height='25px', width='50%'),…"
      ]
     },
     "metadata": {},
     "output_type": "display_data"
    },
    {
     "name": "stderr",
     "output_type": "stream",
     "text": [
      "An error was encountered:\n",
      "path hdfs://ip-172-31-3-210.us-east-2.compute.internal:8020/user/livy/filtered_df.csv already exists.\n",
      "Traceback (most recent call last):\n",
      "  File \"/mnt/yarn/usercache/livy/appcache/application_1686153419480_0010/container_1686153419480_0010_01_000001/pyspark.zip/pyspark/sql/readwriter.py\", line 1240, in csv\n",
      "    self._jwrite.csv(path)\n",
      "  File \"/mnt/yarn/usercache/livy/appcache/application_1686153419480_0010/container_1686153419480_0010_01_000001/py4j-0.10.9.5-src.zip/py4j/java_gateway.py\", line 1322, in __call__\n",
      "    answer, self.gateway_client, self.target_id, self.name)\n",
      "  File \"/mnt/yarn/usercache/livy/appcache/application_1686153419480_0010/container_1686153419480_0010_01_000001/pyspark.zip/pyspark/sql/utils.py\", line 196, in deco\n",
      "    raise converted from None\n",
      "pyspark.sql.utils.AnalysisException: path hdfs://ip-172-31-3-210.us-east-2.compute.internal:8020/user/livy/filtered_df.csv already exists.\n",
      "\n"
     ]
    }
   ],
   "source": [
    "# Exporting new dataframe to csv file\n",
    "filtered_df.write.csv('filtered_df.csv', header = True)"
   ]
  },
  {
   "cell_type": "markdown",
   "id": "ecacb51a",
   "metadata": {},
   "source": [
    "***\n",
    "\n",
    "## Conclusion <a class=\"anchor\" id=\"conclusion\"></a>\n",
    "\n",
    "We were able to read in the Google Ngrams dataset. It has 261,823,225 rows and 5 columns. We then created a new dataframe where we filtered and reduced data down to a manageable size by only including rows where the value for `token` is `data`. The new dataframe has 316 rows and 5 columns. We saved it as a csv file in the cloud so that we can extract it and do analysis on our local machines.\n",
    "\n",
    "[[Back to top]](#toc)"
   ]
  },
  {
   "cell_type": "code",
   "execution_count": null,
   "id": "1a49f456-1940-464c-874f-91c360be2d2a",
   "metadata": {},
   "outputs": [],
   "source": []
  }
 ],
 "metadata": {
  "kernelspec": {
   "display_name": "Python 3 (ipykernel)",
   "language": "python",
   "name": "python3"
  },
  "language_info": {
   "codemirror_mode": {
    "name": "ipython",
    "version": 3
   },
   "file_extension": ".py",
   "mimetype": "text/x-python",
   "name": "python",
   "nbconvert_exporter": "python",
   "pygments_lexer": "ipython3",
   "version": "3.10.9"
  }
 },
 "nbformat": 4,
 "nbformat_minor": 5
}
