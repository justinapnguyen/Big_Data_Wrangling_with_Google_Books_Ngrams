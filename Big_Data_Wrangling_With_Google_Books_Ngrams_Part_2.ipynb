{
 "cells": [
  {
   "cell_type": "markdown",
   "id": "238b10a9-a512-4c9d-bb5f-2999b3d0880a",
   "metadata": {},
   "source": [
    "# Big Data Wrangling With Google Books Ngrams\n",
    "## Part 2: Visualizing filtered dataset"
   ]
  },
  {
   "cell_type": "markdown",
   "id": "c74b6fc2-03bc-43e1-a8f6-c6cebe7ae2e9",
   "metadata": {},
   "source": [
    "**BrainStation**\n",
    "\n",
    "## Introduction\n",
    "\n",
    "In this notebook, we will look into the Google Ngrams dataset. It was created by Google's research team by analyzing all of the content in Google Books - these digitized texts represent approximately 4% of all books ever printed, and span a time period from the 1800s into the 2000s.\n",
    "\n",
    "In part 1, we extracted data from the Cloud and processed it using Big Data tools. We filtered and reduced the data down to a manageable size for analysis. In this notebook, we will import the filtered data and create a graph using the `year` and `frequency` columns."
   ]
  },
  {
   "cell_type": "markdown",
   "id": "f4b11f48-f054-4fc9-90ae-c4334e1377ad",
   "metadata": {},
   "source": [
    "***\n",
    "\n",
    "## Table of Contents <a class=\"anchor\" id=\"toc\"></a>\n",
    "\n",
    "- [The Dataset](#the-dataset)\n",
    "- [Creating a plot for the number of occurences of the token, \"data\", over the years](#plot)\n",
    "- [Conclusion](#conclusion)"
   ]
  },
  {
   "cell_type": "markdown",
   "id": "cea6a423-59b1-4017-9418-f47f779e3c26",
   "metadata": {},
   "source": [
    "***\n",
    "\n",
    "## The Dataset <a class=\"anchor\" id=\"the-dataset\"></a>\n",
    "\n",
    "Let's import the relevant packages to analyze the data."
   ]
  },
  {
   "cell_type": "code",
   "execution_count": 1,
   "id": "c4d057db-0907-4763-a9c0-ee9ccc9e4284",
   "metadata": {},
   "outputs": [],
   "source": [
    "import pandas as pd\n",
    "import matplotlib.pyplot as plt"
   ]
  },
  {
   "cell_type": "markdown",
   "id": "929f32fd-0e2e-4379-838a-aa926eb3b59a",
   "metadata": {},
   "source": [
    "Now, let's read the data and take a first look at the dataset."
   ]
  },
  {
   "cell_type": "code",
   "execution_count": 2,
   "id": "371cab89-3688-43e5-9308-e7bed61b5c90",
   "metadata": {},
   "outputs": [
    {
     "name": "stdout",
     "output_type": "stream",
     "text": [
      "/Users/justinanguyen/Desktop/BrainStation/Projects/Big Data Wrangling With Google Books Ngrams\n"
     ]
    }
   ],
   "source": [
    "cd /Users/justinanguyen/Desktop/BrainStation/Projects/Big Data Wrangling With Google Books Ngrams"
   ]
  },
  {
   "cell_type": "code",
   "execution_count": 3,
   "id": "786bca9c-7f5b-42b0-bd18-adf8a09646da",
   "metadata": {},
   "outputs": [
    {
     "data": {
      "text/html": [
       "<div>\n",
       "<style scoped>\n",
       "    .dataframe tbody tr th:only-of-type {\n",
       "        vertical-align: middle;\n",
       "    }\n",
       "\n",
       "    .dataframe tbody tr th {\n",
       "        vertical-align: top;\n",
       "    }\n",
       "\n",
       "    .dataframe thead th {\n",
       "        text-align: right;\n",
       "    }\n",
       "</style>\n",
       "<table border=\"1\" class=\"dataframe\">\n",
       "  <thead>\n",
       "    <tr style=\"text-align: right;\">\n",
       "      <th></th>\n",
       "      <th>token</th>\n",
       "      <th>year</th>\n",
       "      <th>frequency</th>\n",
       "      <th>pages</th>\n",
       "      <th>books</th>\n",
       "    </tr>\n",
       "  </thead>\n",
       "  <tbody>\n",
       "    <tr>\n",
       "      <th>0</th>\n",
       "      <td>token</td>\n",
       "      <td>year</td>\n",
       "      <td>frequency</td>\n",
       "      <td>pages</td>\n",
       "      <td>books</td>\n",
       "    </tr>\n",
       "    <tr>\n",
       "      <th>1</th>\n",
       "      <td>data</td>\n",
       "      <td>1584</td>\n",
       "      <td>16</td>\n",
       "      <td>14</td>\n",
       "      <td>1</td>\n",
       "    </tr>\n",
       "    <tr>\n",
       "      <th>2</th>\n",
       "      <td>data</td>\n",
       "      <td>1614</td>\n",
       "      <td>3</td>\n",
       "      <td>2</td>\n",
       "      <td>1</td>\n",
       "    </tr>\n",
       "    <tr>\n",
       "      <th>3</th>\n",
       "      <td>data</td>\n",
       "      <td>1627</td>\n",
       "      <td>1</td>\n",
       "      <td>1</td>\n",
       "      <td>1</td>\n",
       "    </tr>\n",
       "    <tr>\n",
       "      <th>4</th>\n",
       "      <td>data</td>\n",
       "      <td>1631</td>\n",
       "      <td>22</td>\n",
       "      <td>18</td>\n",
       "      <td>1</td>\n",
       "    </tr>\n",
       "  </tbody>\n",
       "</table>\n",
       "</div>"
      ],
      "text/plain": [
       "   token  year  frequency  pages  books\n",
       "0  token  year  frequency  pages  books\n",
       "1   data  1584         16     14      1\n",
       "2   data  1614          3      2      1\n",
       "3   data  1627          1      1      1\n",
       "4   data  1631         22     18      1"
      ]
     },
     "execution_count": 3,
     "metadata": {},
     "output_type": "execute_result"
    }
   ],
   "source": [
    "# Reading the csv file into a dataframe\n",
    "df = pd.read_csv('./filtered_merged.csv')\n",
    "\n",
    "# Checking the first 5 rows of the dataframe\n",
    "df.head()"
   ]
  },
  {
   "cell_type": "markdown",
   "id": "0c145da6-fa56-45c3-b625-20c0cda8c75c",
   "metadata": {},
   "source": [
    "There seems to be an extra row with headers. We will drop that row from the dataframe."
   ]
  },
  {
   "cell_type": "code",
   "execution_count": 4,
   "id": "bf3816ab-109c-4b8b-9333-b529e14b96ce",
   "metadata": {},
   "outputs": [],
   "source": [
    "# Drops the extra row containing headers\n",
    "df.drop(index = 0, inplace = True)"
   ]
  },
  {
   "cell_type": "code",
   "execution_count": 5,
   "id": "a3e04a3d-9a79-4c21-8bfc-9e8475677bf9",
   "metadata": {},
   "outputs": [
    {
     "data": {
      "text/html": [
       "<div>\n",
       "<style scoped>\n",
       "    .dataframe tbody tr th:only-of-type {\n",
       "        vertical-align: middle;\n",
       "    }\n",
       "\n",
       "    .dataframe tbody tr th {\n",
       "        vertical-align: top;\n",
       "    }\n",
       "\n",
       "    .dataframe thead th {\n",
       "        text-align: right;\n",
       "    }\n",
       "</style>\n",
       "<table border=\"1\" class=\"dataframe\">\n",
       "  <thead>\n",
       "    <tr style=\"text-align: right;\">\n",
       "      <th></th>\n",
       "      <th>token</th>\n",
       "      <th>year</th>\n",
       "      <th>frequency</th>\n",
       "      <th>pages</th>\n",
       "      <th>books</th>\n",
       "    </tr>\n",
       "  </thead>\n",
       "  <tbody>\n",
       "    <tr>\n",
       "      <th>1</th>\n",
       "      <td>data</td>\n",
       "      <td>1584</td>\n",
       "      <td>16</td>\n",
       "      <td>14</td>\n",
       "      <td>1</td>\n",
       "    </tr>\n",
       "    <tr>\n",
       "      <th>2</th>\n",
       "      <td>data</td>\n",
       "      <td>1614</td>\n",
       "      <td>3</td>\n",
       "      <td>2</td>\n",
       "      <td>1</td>\n",
       "    </tr>\n",
       "    <tr>\n",
       "      <th>3</th>\n",
       "      <td>data</td>\n",
       "      <td>1627</td>\n",
       "      <td>1</td>\n",
       "      <td>1</td>\n",
       "      <td>1</td>\n",
       "    </tr>\n",
       "    <tr>\n",
       "      <th>4</th>\n",
       "      <td>data</td>\n",
       "      <td>1631</td>\n",
       "      <td>22</td>\n",
       "      <td>18</td>\n",
       "      <td>1</td>\n",
       "    </tr>\n",
       "    <tr>\n",
       "      <th>5</th>\n",
       "      <td>data</td>\n",
       "      <td>1637</td>\n",
       "      <td>1</td>\n",
       "      <td>1</td>\n",
       "      <td>1</td>\n",
       "    </tr>\n",
       "  </tbody>\n",
       "</table>\n",
       "</div>"
      ],
      "text/plain": [
       "  token  year frequency pages books\n",
       "1  data  1584        16    14     1\n",
       "2  data  1614         3     2     1\n",
       "3  data  1627         1     1     1\n",
       "4  data  1631        22    18     1\n",
       "5  data  1637         1     1     1"
      ]
     },
     "execution_count": 5,
     "metadata": {},
     "output_type": "execute_result"
    }
   ],
   "source": [
    "# Checking the first 5 rows \n",
    "df.head()"
   ]
  },
  {
   "cell_type": "code",
   "execution_count": 6,
   "id": "6918fd93-c234-48d4-9f13-079a48dd978e",
   "metadata": {},
   "outputs": [
    {
     "name": "stdout",
     "output_type": "stream",
     "text": [
      "There are 316 rows and 5 columns.\n"
     ]
    }
   ],
   "source": [
    "# Checking the shape of the dataframe\n",
    "print(f'There are {df.shape[0]} rows and {df.shape[1]} columns.')"
   ]
  },
  {
   "cell_type": "code",
   "execution_count": 7,
   "id": "eba6c1c7-b9b7-4472-87e1-55d6647f021e",
   "metadata": {},
   "outputs": [
    {
     "data": {
      "text/plain": [
       "token        object\n",
       "year         object\n",
       "frequency    object\n",
       "pages        object\n",
       "books        object\n",
       "dtype: object"
      ]
     },
     "execution_count": 7,
     "metadata": {},
     "output_type": "execute_result"
    }
   ],
   "source": [
    "# Checking the datatypes\n",
    "df.dtypes"
   ]
  },
  {
   "cell_type": "markdown",
   "id": "2a066271-3f7f-4796-9fc5-553ad00e6095",
   "metadata": {},
   "source": [
    "We can check to see if there are any nulls or duplicates that we need to deal with."
   ]
  },
  {
   "cell_type": "code",
   "execution_count": 8,
   "id": "21050f01-5362-4b21-987f-6666072d8e4d",
   "metadata": {
    "tags": []
   },
   "outputs": [
    {
     "data": {
      "text/plain": [
       "token        0\n",
       "year         0\n",
       "frequency    0\n",
       "pages        0\n",
       "books        0\n",
       "dtype: int64"
      ]
     },
     "execution_count": 8,
     "metadata": {},
     "output_type": "execute_result"
    }
   ],
   "source": [
    "# Checking if there are any nulls\n",
    "df.isnull().sum()"
   ]
  },
  {
   "cell_type": "code",
   "execution_count": 9,
   "id": "489a679b-5869-445e-8599-a2054efad560",
   "metadata": {},
   "outputs": [
    {
     "name": "stdout",
     "output_type": "stream",
     "text": [
      "There are 0 duplicated rows and 0 duplicated columns.\n"
     ]
    }
   ],
   "source": [
    "# Counts the number of rows that contain duplicate information in the dataframe\n",
    "duplicated_rows = df.duplicated()\n",
    "duplicated_columns = df.T.duplicated()\n",
    "print(f'There are {duplicated_rows.sum()} duplicated rows and {duplicated_columns.sum()} duplicated columns.')"
   ]
  },
  {
   "cell_type": "markdown",
   "id": "4f539343-b86d-4eea-9a22-d3c42e9e13c5",
   "metadata": {},
   "source": [
    "There are 316 rows and 5 columns in the dataset. There are no null and duplicated values. All the datatypes in the dataframe are `objects`."
   ]
  },
  {
   "cell_type": "markdown",
   "id": "78fb91ec-09c6-4ecb-afc0-d69c16650509",
   "metadata": {},
   "source": [
    "***\n",
    "\n",
    "## Creating a plot for the number of occurences of the token, \"data\", over the years <a class=\"anchor\" id=\"plot\"></a>\n",
    "\n",
    "Our objective is to plot the number of occurences over the years. Before we are able to plot, we would need to convert the `year` and `frequency` columns to numerical format."
   ]
  },
  {
   "cell_type": "code",
   "execution_count": 10,
   "id": "c51d5089-871e-4a57-85f9-fa2fd6fd4207",
   "metadata": {},
   "outputs": [],
   "source": [
    "# Converting \"frequency\" to an integer\n",
    "df['frequency'] = df['frequency'].astype('int64')"
   ]
  },
  {
   "cell_type": "code",
   "execution_count": 11,
   "id": "f93b9929-a2ba-464b-a330-9eebb9cbdf2d",
   "metadata": {},
   "outputs": [],
   "source": [
    "# Converting \"year\" to an integer\n",
    "df['year'] = df['year'].astype('int64')"
   ]
  },
  {
   "cell_type": "code",
   "execution_count": 12,
   "id": "817b53ad-ba0f-4491-9b36-62c76c788eb1",
   "metadata": {},
   "outputs": [
    {
     "data": {
      "text/plain": [
       "token        object\n",
       "year          int64\n",
       "frequency     int64\n",
       "pages        object\n",
       "books        object\n",
       "dtype: object"
      ]
     },
     "execution_count": 12,
     "metadata": {},
     "output_type": "execute_result"
    }
   ],
   "source": [
    "# Checking the datatype\n",
    "df.dtypes"
   ]
  },
  {
   "cell_type": "markdown",
   "id": "e7ca7c3e-f8d1-4a3e-8967-3637b977aa0a",
   "metadata": {},
   "source": [
    "Now that both columns are in numerical format, we can plot using matplotlib."
   ]
  },
  {
   "cell_type": "code",
   "execution_count": 13,
   "id": "29130ea4-6a17-450f-ae48-44c2bfe09021",
   "metadata": {},
   "outputs": [
    {
     "data": {
      "image/png": "[encoded data removed]",
      "text/plain": [
       "<Figure size 1000x800 with 1 Axes>"
      ]
     },
     "metadata": {},
     "output_type": "display_data"
    }
   ],
   "source": [
    "# Create the figure\n",
    "plt.figure(figsize = (10, 8))\n",
    "\n",
    "# Input the data\n",
    "plt.plot(df['year'], df['frequency'])\n",
    "\n",
    "# Changing the properties of the graph\n",
    "plt.xlabel('Year')\n",
    "plt.ylabel('Frequency')\n",
    "plt.title('Number of occurences of the token, \"data\", over the years')\n",
    "\n",
    "# Show plot\n",
    "plt.show()"
   ]
  },
  {
   "cell_type": "markdown",
   "id": "bade3d2f-2b05-46cd-9db6-f5c5b937990c",
   "metadata": {},
   "source": [
    "In the graph, we see that the token, \"data\", was not used much in the early years. Around 1850, we see that there is a slight rise in the number of occurrences. By 1900, the slope begins to exponentially rise until the late 1900s. Then by 2000, the frequency of the token drops about 60% to around 100,000 occurrences."
   ]
  },
  {
   "cell_type": "markdown",
   "id": "e999ef25-7d1f-4d81-af45-c77ed8308b2b",
   "metadata": {},
   "source": [
    "***\n",
    "\n",
    "## Conclusion <a class=\"anchor\" id=\"conclusion\"></a>\n",
    "\n",
    "We were able to read in the CSV file that we created in Part 1. Our objective was to visualize the frequency of the token, \"data\", over the years. We noticed that the `frequency` and `year` columns contained the datatype, `object`, when both should be in numerical format. Both columns were then converted to numerical format and plotted on a graph. \n",
    "\n",
    "[[Back to top]](#toc)"
   ]
  },
  {
   "cell_type": "code",
   "execution_count": null,
   "id": "19426a1f-7753-4d85-9992-7a9eab166697",
   "metadata": {},
   "outputs": [],
   "source": []
  }
 ],
 "metadata": {
  "kernelspec": {
   "display_name": "Python 3 (ipykernel)",
   "language": "python",
   "name": "python3"
  },
  "language_info": {
   "codemirror_mode": {
    "name": "ipython",
    "version": 3
   },
   "file_extension": ".py",
   "mimetype": "text/x-python",
   "name": "python",
   "nbconvert_exporter": "python",
   "pygments_lexer": "ipython3",
   "version": "3.10.9"
  }
 },
 "nbformat": 4,
 "nbformat_minor": 5
}
